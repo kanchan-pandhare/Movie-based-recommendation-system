{
 "cells": [
  {
   "cell_type": "markdown",
   "metadata": {},
   "source": [
    "# Movie Recommendation\n",
    "\n",
    "\n",
    "The task is to predict the recommended movies from a given movie. We will be implementing this problem using content based recommendation method.\n",
    "\n",
    "We will build a Recommendation System, recommending the items based on the following,\n",
    "### Content Based Recommendation:\n",
    "It identifies the similarity based approach calculating cosine similarity between users history posts and potential recommended posts.\n"
   ]
  },
  {
   "cell_type": "code",
   "execution_count": 2,
   "metadata": {},
   "outputs": [],
   "source": [
    "#import your libraries\n",
    "\n",
    "import pandas as pd\n",
    "from sklearn.feature_extraction.text import TfidfVectorizer\n",
    "from sklearn.metrics.pairwise import cosine_similarity\n",
    "\n",
    "#your info here\n",
    "__author__ = \"Kanchan Pandhare\"\n",
    "__email__ = \"kanchan.pandhare08@gmail.com\"\n",
    "\n",
    "\n",
    "ds = pd.read_csv(\"movies.csv\")\n",
    "#print(ds.head())\n",
    "\n",
    "#Function to get movie Id from Movie title\n",
    "def get_index_from_title(title):\n",
    "    if title in ds.title.values:\n",
    "        return ds[ds.title == title][\"movieId\"].values[0]\n",
    "    else: \n",
    "        return -1\n",
    "\n",
    "#Combine the movie features for better predictions based on movie content\n",
    "def combine_features(row):\n",
    "    try:\n",
    "        return row['title']\n",
    "    except:\n",
    "        print (row)\n",
    "\n",
    "#Function to get movie title from movie Id\n",
    "def item(id):\n",
    "    return ds.loc[ds['movieId'] == id]['title'].tolist()[0].split(' - ')[0]\n"
   ]
  },
  {
   "cell_type": "code",
   "execution_count": 3,
   "metadata": {},
   "outputs": [],
   "source": [
    "ds['combined_features'] = ds.apply(combine_features,axis = 1)\n",
    "\n",
    "#Calculate the similarity matrix using cosine similarity\n",
    "tf = TfidfVectorizer(analyzer='word', ngram_range=(1, 2), min_df=0, stop_words='english')\n",
    "count_matrix = tf.fit_transform(ds['combined_features'])\n",
    "#cv = CountVectorizer()\n",
    "#count_matrix = cv.fit_transform(ds['combined_features'])\n",
    "cosine_similarities = cosine_similarity(count_matrix)\n",
    "\n",
    "results = {}\n",
    "\n",
    "#Sort the similarity in descending order from the similarity matrix such that the most similar movies comes at the first position\n",
    "\n",
    "for idx, row in ds.iterrows():\n",
    "    similar_indices = cosine_similarities[idx].argsort()[:-100:-1]\n",
    "    similar_items = [(cosine_similarities[idx][i], ds['movieId'][i]) for i in similar_indices]\n",
    "    results[row['movieId']] = similar_items[1:]\n",
    "    \n",
    "# Just reads the results out of the dictionary.\n",
    "#Recommendation function to display the top n recommendations for a given movie\n",
    "def recommend(item_id, num):\n",
    "    item_id = get_index_from_title(item_id)\n",
    "    if item_id == -1:\n",
    "        print(\"Movie does not exist\")\n",
    "    else:\n",
    "        print(\"Recommending \" + str(num) + \" movies similar to \" + item(item_id) + \"...\")\n",
    "        print(\"-------\")\n",
    "        recs = results[item_id][:num]\n",
    "        for rec in recs:\n",
    "            print(\"Recommended: \" + item(rec[1]) + \" (score:\" + str(rec[0]) + \")\")\n",
    "\n"
   ]
  },
  {
   "cell_type": "code",
   "execution_count": 4,
   "metadata": {},
   "outputs": [
    {
     "name": "stdout",
     "output_type": "stream",
     "text": [
      "Recommending 10 movies similar to Iron Man (2008)...\n",
      "-------\n",
      "Recommended: Iron Man 2 (2010) (score:0.5909000712263456)\n",
      "Recommended: Iron Man 3 (2013) (score:0.5843071168270364)\n",
      "Recommended: Iron Man (1931) (score:0.5408978245408712)\n",
      "Recommended: Ip Man (2008) (score:0.47511539496593247)\n",
      "Recommended: Yes Man (2008) (score:0.46776347087231107)\n",
      "Recommended: Invincible Iron Man, The (2007) (score:0.457104712191622)\n",
      "Recommended: Iron Man & Hulk: Heroes United (2013) (score:0.34019130794111696)\n",
      "Recommended: W. (2008) (score:0.29530773594974863)\n",
      "Recommended: Never Back Down (2008) (score:0.29530773594974863)\n",
      "Recommended: Iron Will (1994) (score:0.2540879355037116)\n",
      "(9742, 9742)\n"
     ]
    }
   ],
   "source": [
    "recommend(item_id='Iron Man (2008)', num=10)\n",
    "print(cosine_similarities.shape)"
   ]
  },
  {
   "cell_type": "markdown",
   "metadata": {},
   "source": [
    "## Content-based Filtering Advantages & Disadvantages\n",
    "### Advantages\n",
    "\n",
    "The model doesn't need any data about other users, since the recommendations are specific to this user. This makes it easier to scale to a large number of users.\n",
    "\n",
    "The model can capture the specific interests of a user, and can recommend niche items that very few other users are interested in.\n",
    "### Disadvantages\n",
    "\n",
    "Since the feature representation of the items are hand-engineered to some extent, this technique requires a lot of domain knowledge. Therefore, the model can only be as good as the hand-engineered features.\n",
    "\n",
    "The model can only make recommendations based on existing interests of the user. In other words, the model has limited ability to expand on the users' existing interests."
   ]
  }
 ],
 "metadata": {
  "kernelspec": {
   "display_name": "Python 3",
   "language": "python",
   "name": "python3"
  },
  "language_info": {
   "codemirror_mode": {
    "name": "ipython",
    "version": 3
   },
   "file_extension": ".py",
   "mimetype": "text/x-python",
   "name": "python",
   "nbconvert_exporter": "python",
   "pygments_lexer": "ipython3",
   "version": "3.7.6"
  }
 },
 "nbformat": 4,
 "nbformat_minor": 4
}
