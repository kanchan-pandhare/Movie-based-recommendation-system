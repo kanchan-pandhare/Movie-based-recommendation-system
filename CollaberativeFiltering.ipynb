{
 "cells": [
  {
   "cell_type": "markdown",
   "metadata": {},
   "source": [
    "## Collaborative Filtering\n",
    "\n",
    "To address some of the limitations of content-based filtering, collaborative filtering uses similarities between users and items simultaneously to provide recommendations. This allows for serendipitous recommendations; that is, collaborative filtering models can recommend an item to user A based on the interests of a similar user B. Furthermore, the embeddings can be learned automatically, without relying on hand-engineering of features.\n",
    "\n",
    "### A Movie Recommendation Example\n",
    "Consider a movie recommendation system in which the training data consists of a feedback matrix in which:\n",
    "\n",
    "Each row represents a user.\n",
    "Each column represents an item (a movie).\n",
    "The feedback about movies falls into one of two categories:\n",
    "Users specify how much they liked a particular movie by providing a numerical rating.\n",
    "When a user visits the homepage, the system should recommend movies based on both:\n",
    "similarity to movies the user has liked in the past (item-item filtering) and movies that similar users liked (usser-item filtering)\n",
    "\n",
    "In the below example we have 610 users and 9724 movies\n"
   ]
  },
  {
   "cell_type": "code",
   "execution_count": null,
   "metadata": {},
   "outputs": [],
   "source": [
    "#import necessary libraries\n",
    "\n",
    "import pandas as pd\n",
    "import numpy as np\n",
    "from IPython.display import display\n",
    "from sklearn.metrics.pairwise import cosine_similarity\n",
    "\n",
    "__author__ = \"Kanchan Pandhare\"\n",
    "__email__ = \"kanchan.pandhare08@gmail.com\"\n",
    "\n",
    "\n",
    "movies = pd.read_csv(\"movies.csv\")\n",
    "ratings = pd.read_csv(\"ratings.csv\")\n",
    "\n",
    "#Combine movies and ratings to a single dataframe movie_ratings\n",
    "movie_ratings  = pd.merge(movies,ratings,)\n",
    "display(movie_ratings.head())\n"
   ]
  },
  {
   "cell_type": "markdown",
   "metadata": {},
   "source": [
    "\n",
    "## Item-Item Similarity\n",
    "\n",
    "Item-item collaborative filtering, or item-based is a form of collaborative filtering for recommender systems based on the similarity between items calculated using people's ratings of those items.\n",
    "\n",
    "### Movie Matrix\n",
    "For Item-Item Similarity we have movie Ids in rows and user Ids in columns. This will form a matrix of (no_of_movies) x (no_of_users)\n",
    "\n"
   ]
  },
  {
   "cell_type": "code",
   "execution_count": null,
   "metadata": {},
   "outputs": [],
   "source": [
    "movie_matrix = movie_ratings.pivot(index = 'movieId', columns = 'userId', values = 'rating').fillna(0)\n",
    "display(movie_matrix)\n"
   ]
  },
  {
   "cell_type": "code",
   "execution_count": null,
   "metadata": {},
   "outputs": [],
   "source": [
    "movie_similarity =  cosine_similarity(movie_matrix)\n",
    "np.fill_diagonal(movie_similarity,0)\n",
    "ratings_matrix_items = pd.DataFrame( movie_similarity )\n",
    "display(ratings_matrix_items)\n"
   ]
  },
  {
   "cell_type": "markdown",
   "metadata": {},
   "source": [
    "### Similar Movies Function \n",
    "Here the function takes movie name as input and finds the movie id from the movie name. Later it finds the similar movies associated with the movie name and returns the movies with the similarity score as output\n",
    "\n",
    "### Recommend Movies As per Item Similarity\n",
    "In this function we take user id for user A as input and find the movies watched by the user A and having the highest rating to get the movies liked by user A and pass these movies to the above similarMovies function to get the similar movies and sort it in descending order to get the most similar movies in sorted_movies_as_per_userChoice. We also have user2movies to get the movies already watched by user A. Based on this we recommend the movies in sorted_movies_as_per_userChoice but also at the same time we check if they are not already watched by the user A"
   ]
  },
  {
   "cell_type": "code",
   "execution_count": null,
   "metadata": {},
   "outputs": [],
   "source": [
    "\n",
    "def similarMovies(movieName): \n",
    "    \"\"\"\n",
    "    recomendates similar movies\n",
    "   :param data: name of the movie \n",
    "   \"\"\"\n",
    "    try:\n",
    "        #user_inp=input('Enter the reference movie title based on which recommendations are to be made: ')\n",
    "        inp= movies[movies['title']==movieName].index.tolist()\n",
    "        movies['similarity'] = ratings_matrix_items.iloc[inp[0]]\n",
    "        movies.columns = ['movie_id', 'title', 'release_date','similarity']\n",
    "    except:\n",
    "        print(\"Sorry, the movie is not in the database!\")\n",
    "\n",
    "def recommendMoviesAsperItemSimilarity(user_id):\n",
    "    \"\"\"\n",
    "     Recommending movie which user hasn't watched as per Item Similarity\n",
    "    :param user_id: user_id to whom movie needs to be recommended\n",
    "    :return: movieIds to user \n",
    "    \"\"\"\n",
    "    user_movie= movie_ratings[(movie_ratings.userId==user_id) & movie_ratings.rating.isin([5,4.5,4])][['title']]\n",
    "    user_movie=user_movie.iloc[0,0]\n",
    "    similarMovies(user_movie)\n",
    "    sorted_movies_as_per_userChoice= movies.sort_values( [\"similarity\"], ascending = False )\n",
    "\n",
    "    #print(sorted_movies_as_per_userChoice.head())\n",
    "    sorted_movies_as_per_userChoice=sorted_movies_as_per_userChoice[sorted_movies_as_per_userChoice['similarity'] >=0.25]['movie_id']\n",
    "    recommended_movies=list()\n",
    "    df_recommended_item=pd.DataFrame()\n",
    "    user2Movies= ratings[ratings['userId']== user_id]['movieId']\n",
    "    #print(user2Movies)\n",
    "    best10 = []\n",
    "    for movieId in sorted_movies_as_per_userChoice:\n",
    "            if movieId not in user2Movies:\n",
    "                df_new= ratings[(ratings.movieId==movieId)]\n",
    "                df_recommended_item=pd.concat([df_recommended_item,df_new])\n",
    "            best10=df_recommended_item.sort_values([\"rating\"], ascending = False )[1:11] \n",
    "    return best10['movieId']\n",
    "\n",
    "def movieIdToTitle(listMovieIDs):\n",
    "    \"\"\"\n",
    "     Converting movieId to titles\n",
    "    :param user_id: List of movies\n",
    "    :return: movie titles\n",
    "    \"\"\"\n",
    "    movie_titles= []\n",
    "    for id in listMovieIDs:\n",
    "        movie_titles.append(movies[movies['movie_id']==id]['title'].to_string())\n",
    "    return movie_titles"
   ]
  },
  {
   "cell_type": "code",
   "execution_count": null,
   "metadata": {},
   "outputs": [],
   "source": [
    "#Call the function to find the similar movies\n",
    "movieIdToTitle(recommendMoviesAsperItemSimilarity(2))"
   ]
  },
  {
   "cell_type": "markdown",
   "metadata": {},
   "source": [
    "## User-Item Similarity\n",
    "The method identifies users that are similar to the queried user and estimate the desired rating to be the weighted average of the ratings of these similar users.\n",
    "\n",
    "### User Matrix\n",
    "For User-Item Similarity we have user Ids in rows and movies Ids in columns. This will form a matrix of (no_of_users} x (no_of_movies).\n",
    "\n",
    "\n"
   ]
  },
  {
   "cell_type": "code",
   "execution_count": null,
   "metadata": {},
   "outputs": [],
   "source": [
    "user_matrix  = movie_ratings.pivot(index = 'userId', columns = 'movieId', values = 'rating').fillna(0)\n",
    "display(user_matrix)"
   ]
  },
  {
   "cell_type": "markdown",
   "metadata": {},
   "source": [
    "Here I have used the cosine similarity to calculate the weight given in the above formula. This gives the similarity score of a user A with other users. The resulting matrix is of size (no_of_users) x (no_of_users)\n",
    "\n",
    "We also set the diagonal elements to 0 so as to avoid the same movie to be shown in recommendation as every given movie will have the similarity score with the same movie as equal to 1\n"
   ]
  },
  {
   "cell_type": "code",
   "execution_count": null,
   "metadata": {},
   "outputs": [],
   "source": [
    "user_similarity =  cosine_similarity(user_matrix)\n",
    "np.fill_diagonal(user_similarity,0)\n",
    "ratings_matrix_users = pd.DataFrame( user_similarity )\n",
    "display(ratings_matrix_users)\n",
    "\n"
   ]
  },
  {
   "cell_type": "markdown",
   "metadata": {},
   "source": [
    "### User's Similarity\n",
    "After having the cosine similarity matrix which gives the similarity score for each user against another user, we then find the most similar user to the input user by using idxmax which gives the user index for highest score against each user. The below output shows that, the similar user corresponding to user 0 is 265."
   ]
  },
  {
   "cell_type": "code",
   "execution_count": null,
   "metadata": {},
   "outputs": [],
   "source": [
    "similar_users = ratings_matrix_users.idxmax(axis=1)\n",
    "display(similar_users)\n"
   ]
  },
  {
   "cell_type": "markdown",
   "metadata": {},
   "source": [
    "### Recommend Movies As per User Similarity\n",
    "In this function we pass the user id as input and find the similar user corresponding to the user id of user A. After having the similar user we get the movies watched by the similar user and we also find the movies watched/rated by user A, so that we don't show the same movies in recommendation to the user. We sort the recommendation movies in descending order of the ratings so that the most rated movie is recommended first to the user\n",
    "\n"
   ]
  },
  {
   "cell_type": "code",
   "execution_count": null,
   "metadata": {},
   "outputs": [],
   "source": [
    "def recommendMoviesAsperUserSimilarity(user_id):\n",
    "    \"\"\"\n",
    "     Recommending movie which user hasn't watched as per Item Similarity\n",
    "    :param user_id: user_id to whom movie needs to be recommended\n",
    "    :return: movieIds to user \n",
    "    \"\"\"\n",
    "    similar_user = similar_users[user_id]\n",
    "    print(\"User \"+str(user_id)+\" is similar to User \" +str(similar_user)+\"\\n\")\n",
    "    user2Movies= ratings[ratings['userId']== user_id]['movieId']\n",
    "    df_recommended=pd.DataFrame(columns=['movieId','title','genres','userId','rating','timestamp'])\n",
    "    #print(user2Movies)\n",
    "    best10 = []\n",
    "    similarUsersMovies = ratings[ratings['userId']== similar_user]['movieId']\n",
    "    for movieId in similarUsersMovies:\n",
    "            if movieId not in user2Movies:\n",
    "                df_new= movie_ratings[(movie_ratings.movieId==movieId) & (movie_ratings.userId==similar_user)]\n",
    "                df_recommended=pd.concat([df_recommended,df_new])\n",
    "            best10=df_recommended.sort_values([\"rating\"], ascending = False )[1:11] \n",
    "    return best10['title']"
   ]
  },
  {
   "cell_type": "code",
   "execution_count": null,
   "metadata": {},
   "outputs": [],
   "source": [
    "print(recommendMoviesAsperUserSimilarity(3))"
   ]
  },
  {
   "cell_type": "code",
   "execution_count": null,
   "metadata": {},
   "outputs": [],
   "source": []
  }
 ],
 "metadata": {
  "kernelspec": {
   "display_name": "Python 3",
   "language": "python",
   "name": "python3"
  },
  "language_info": {
   "codemirror_mode": {
    "name": "ipython",
    "version": 3
   },
   "file_extension": ".py",
   "mimetype": "text/x-python",
   "name": "python",
   "nbconvert_exporter": "python",
   "pygments_lexer": "ipython3",
   "version": "3.7.6"
  }
 },
 "nbformat": 4,
 "nbformat_minor": 4
}
