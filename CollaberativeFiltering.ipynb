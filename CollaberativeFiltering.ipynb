{
 "cells": [
  {
   "cell_type": "markdown",
   "metadata": {},
   "source": [
    "## Collaborative Filtering\n",
    "\n",
    "To address some of the limitations of content-based filtering, collaborative filtering uses similarities between users and items simultaneously to provide recommendations. This allows for serendipitous recommendations; that is, collaborative filtering models can recommend an item to user A based on the interests of a similar user B. Furthermore, the embeddings can be learned automatically, without relying on hand-engineering of features.\n",
    "\n",
    "### A Movie Recommendation Example\n",
    "Consider a movie recommendation system in which the training data consists of a feedback matrix in which:\n",
    "\n",
    "Each row represents a user.\n",
    "Each column represents an item (a movie).\n",
    "The feedback about movies falls into one of two categories:\n",
    "Users specify how much they liked a particular movie by providing a numerical rating.\n",
    "When a user visits the homepage, the system should recommend movies based on both:\n",
    "similarity to movies the user has liked in the past (item-item filtering) and movies that similar users liked (usser-item filtering)\n",
    "\n",
    "In the below example we have 610 users and 9724 movies\n"
   ]
  },
  {
   "cell_type": "code",
   "execution_count": 25,
   "metadata": {},
   "outputs": [
    {
     "name": "stdout",
     "output_type": "stream",
     "text": [
      "   movieId             title                                       genres  \\\n",
      "0        1  Toy Story (1995)  Adventure|Animation|Children|Comedy|Fantasy   \n",
      "1        1  Toy Story (1995)  Adventure|Animation|Children|Comedy|Fantasy   \n",
      "2        1  Toy Story (1995)  Adventure|Animation|Children|Comedy|Fantasy   \n",
      "3        1  Toy Story (1995)  Adventure|Animation|Children|Comedy|Fantasy   \n",
      "4        1  Toy Story (1995)  Adventure|Animation|Children|Comedy|Fantasy   \n",
      "\n",
      "   userId  rating   timestamp  \n",
      "0       1     4.0   964982703  \n",
      "1       5     4.0   847434962  \n",
      "2       7     4.5  1106635946  \n",
      "3      15     2.5  1510577970  \n",
      "4      17     4.5  1305696483  \n"
     ]
    }
   ],
   "source": [
    "#import necessary libraries\n",
    "\n",
    "import pandas as pd\n",
    "import numpy as np\n",
    "from sklearn.metrics.pairwise import cosine_similarity\n",
    "\n",
    "__author__ = \"Kanchan Pandhare\"\n",
    "__email__ = \"kanchan.pandhare08@gmail.com\"\n",
    "\n",
    "\n",
    "movies = pd.read_csv(\"movies.csv\")\n",
    "ratings = pd.read_csv(\"ratings.csv\")\n",
    "\n",
    "#Combine movies and ratings to a single dataframe movie_ratings\n",
    "movie_ratings  = pd.merge(movies,ratings,)\n",
    "print(movie_ratings.head())\n"
   ]
  },
  {
   "cell_type": "markdown",
   "metadata": {},
   "source": [
    "\n",
    "## Item-Item Similarity\n",
    "\n",
    "Item-item collaborative filtering, or item-based is a form of collaborative filtering for recommender systems based on the similarity between items calculated using people's ratings of those items.\n",
    "\n",
    "### Movie Matrix\n",
    "For Item-Item Similarity we have movie Ids in rows and user Ids in columns. This will form a matrix of (no_of_movies) x (no_of_users)\n",
    "\n"
   ]
  },
  {
   "cell_type": "code",
   "execution_count": 26,
   "metadata": {},
   "outputs": [
    {
     "name": "stdout",
     "output_type": "stream",
     "text": [
      "userId   1    2    3    4    5    6    7    8    9    10   ...  601  602  603  \\\n",
      "movieId                                                    ...                  \n",
      "1        4.0  0.0  0.0  0.0  4.0  0.0  4.5  0.0  0.0  0.0  ...  4.0  0.0  4.0   \n",
      "2        0.0  0.0  0.0  0.0  0.0  4.0  0.0  4.0  0.0  0.0  ...  0.0  4.0  0.0   \n",
      "3        4.0  0.0  0.0  0.0  0.0  5.0  0.0  0.0  0.0  0.0  ...  0.0  0.0  0.0   \n",
      "4        0.0  0.0  0.0  0.0  0.0  3.0  0.0  0.0  0.0  0.0  ...  0.0  0.0  0.0   \n",
      "5        0.0  0.0  0.0  0.0  0.0  5.0  0.0  0.0  0.0  0.0  ...  0.0  0.0  0.0   \n",
      "...      ...  ...  ...  ...  ...  ...  ...  ...  ...  ...  ...  ...  ...  ...   \n",
      "193581   0.0  0.0  0.0  0.0  0.0  0.0  0.0  0.0  0.0  0.0  ...  0.0  0.0  0.0   \n",
      "193583   0.0  0.0  0.0  0.0  0.0  0.0  0.0  0.0  0.0  0.0  ...  0.0  0.0  0.0   \n",
      "193585   0.0  0.0  0.0  0.0  0.0  0.0  0.0  0.0  0.0  0.0  ...  0.0  0.0  0.0   \n",
      "193587   0.0  0.0  0.0  0.0  0.0  0.0  0.0  0.0  0.0  0.0  ...  0.0  0.0  0.0   \n",
      "193609   0.0  0.0  0.0  0.0  0.0  0.0  0.0  0.0  0.0  0.0  ...  0.0  0.0  0.0   \n",
      "\n",
      "userId   604  605  606  607  608  609  610  \n",
      "movieId                                     \n",
      "1        3.0  4.0  2.5  4.0  2.5  3.0  5.0  \n",
      "2        5.0  3.5  0.0  0.0  2.0  0.0  0.0  \n",
      "3        0.0  0.0  0.0  0.0  2.0  0.0  0.0  \n",
      "4        0.0  0.0  0.0  0.0  0.0  0.0  0.0  \n",
      "5        3.0  0.0  0.0  0.0  0.0  0.0  0.0  \n",
      "...      ...  ...  ...  ...  ...  ...  ...  \n",
      "193581   0.0  0.0  0.0  0.0  0.0  0.0  0.0  \n",
      "193583   0.0  0.0  0.0  0.0  0.0  0.0  0.0  \n",
      "193585   0.0  0.0  0.0  0.0  0.0  0.0  0.0  \n",
      "193587   0.0  0.0  0.0  0.0  0.0  0.0  0.0  \n",
      "193609   0.0  0.0  0.0  0.0  0.0  0.0  0.0  \n",
      "\n",
      "[9724 rows x 610 columns]\n"
     ]
    }
   ],
   "source": [
    "movie_matrix = movie_ratings.pivot(index = 'movieId', columns = 'userId', values = 'rating').fillna(0)\n",
    "print(movie_matrix)\n"
   ]
  },
  {
   "cell_type": "code",
   "execution_count": 27,
   "metadata": {},
   "outputs": [
    {
     "name": "stdout",
     "output_type": "stream",
     "text": [
      "          0         1         2         3         4         5         6     \\\n",
      "0     0.000000  0.410562  0.296917  0.035573  0.308762  0.376316  0.277491   \n",
      "1     0.410562  0.000000  0.282438  0.106415  0.287795  0.297009  0.228576   \n",
      "2     0.296917  0.282438  0.000000  0.092406  0.417802  0.284257  0.402831   \n",
      "3     0.035573  0.106415  0.092406  0.000000  0.188376  0.089685  0.275035   \n",
      "4     0.308762  0.287795  0.417802  0.188376  0.000000  0.298969  0.474002   \n",
      "...        ...       ...       ...       ...       ...       ...       ...   \n",
      "9719  0.000000  0.000000  0.000000  0.000000  0.000000  0.000000  0.000000   \n",
      "9720  0.000000  0.000000  0.000000  0.000000  0.000000  0.000000  0.000000   \n",
      "9721  0.000000  0.000000  0.000000  0.000000  0.000000  0.000000  0.000000   \n",
      "9722  0.000000  0.000000  0.000000  0.000000  0.000000  0.000000  0.000000   \n",
      "9723  0.000000  0.000000  0.000000  0.000000  0.000000  0.000000  0.000000   \n",
      "\n",
      "          7         8         9     ...  9714  9715  9716  9717  9718  9719  \\\n",
      "0     0.131629  0.232586  0.395573  ...   0.0   0.0   0.0   0.0   0.0   0.0   \n",
      "1     0.172498  0.044835  0.417693  ...   0.0   0.0   0.0   0.0   0.0   0.0   \n",
      "2     0.313434  0.304840  0.242954  ...   0.0   0.0   0.0   0.0   0.0   0.0   \n",
      "3     0.158022  0.000000  0.095598  ...   0.0   0.0   0.0   0.0   0.0   0.0   \n",
      "4     0.283523  0.335058  0.218061  ...   0.0   0.0   0.0   0.0   0.0   0.0   \n",
      "...        ...       ...       ...  ...   ...   ...   ...   ...   ...   ...   \n",
      "9719  0.000000  0.000000  0.000000  ...   1.0   1.0   1.0   1.0   1.0   0.0   \n",
      "9720  0.000000  0.000000  0.000000  ...   1.0   1.0   1.0   1.0   1.0   1.0   \n",
      "9721  0.000000  0.000000  0.000000  ...   1.0   1.0   1.0   1.0   1.0   1.0   \n",
      "9722  0.000000  0.000000  0.000000  ...   1.0   1.0   1.0   1.0   1.0   1.0   \n",
      "9723  0.000000  0.000000  0.072542  ...   0.0   0.0   0.0   0.0   0.0   0.0   \n",
      "\n",
      "      9720  9721  9722  9723  \n",
      "0      0.0   0.0   0.0   0.0  \n",
      "1      0.0   0.0   0.0   0.0  \n",
      "2      0.0   0.0   0.0   0.0  \n",
      "3      0.0   0.0   0.0   0.0  \n",
      "4      0.0   0.0   0.0   0.0  \n",
      "...    ...   ...   ...   ...  \n",
      "9719   1.0   1.0   1.0   0.0  \n",
      "9720   0.0   1.0   1.0   0.0  \n",
      "9721   1.0   0.0   1.0   0.0  \n",
      "9722   1.0   1.0   0.0   0.0  \n",
      "9723   0.0   0.0   0.0   0.0  \n",
      "\n",
      "[9724 rows x 9724 columns]\n"
     ]
    }
   ],
   "source": [
    "movie_similarity =  cosine_similarity(movie_matrix)\n",
    "np.fill_diagonal(movie_similarity,0)\n",
    "ratings_matrix_items = pd.DataFrame( movie_similarity )\n",
    "print(ratings_matrix_items)\n"
   ]
  },
  {
   "cell_type": "markdown",
   "metadata": {},
   "source": [
    "### Similar Movies Function \n",
    "Here the function takes movie name as input and finds the movie id from the movie name. Later it finds the similar movies associated with the movie name and returns the movies with the similarity score as output\n",
    "\n",
    "### Recommend Movies As per Item Similarity\n",
    "In this function we take user id for user A as input and find the movies watched by the user A and having the highest rating to get the movies liked by user A and pass these movies to the above similarMovies function to get the similar movies and sort it in descending order to get the most similar movies in sorted_movies_as_per_userChoice. We also have user2movies to get the movies already watched by user A. Based on this we recommend the movies in sorted_movies_as_per_userChoice but also at the same time we check if they are not already watched by the user A"
   ]
  },
  {
   "cell_type": "code",
   "execution_count": 29,
   "metadata": {},
   "outputs": [],
   "source": [
    "\n",
    "def similarMovies(movieName): \n",
    "    \"\"\"\n",
    "    recomendates similar movies\n",
    "   :param data: name of the movie \n",
    "   \"\"\"\n",
    "    try:\n",
    "        #user_inp=input('Enter the reference movie title based on which recommendations are to be made: ')\n",
    "        inp= movies[movies['title']==movieName].index.tolist()\n",
    "        movies['similarity'] = ratings_matrix_items.iloc[inp[0]]\n",
    "        movies.columns = ['movie_id', 'title', 'release_date','similarity']\n",
    "    except:\n",
    "        print(\"Sorry, the movie is not in the database!\")\n",
    "\n",
    "def recommendMoviesAsperItemSimilarity(user_id):\n",
    "    \"\"\"\n",
    "     Recommending movie which user hasn't watched as per Item Similarity\n",
    "    :param user_id: user_id to whom movie needs to be recommended\n",
    "    :return: movieIds to user \n",
    "    \"\"\"\n",
    "    user_movie= movie_ratings[(movie_ratings.userId==user_id) & movie_ratings.rating.isin([5,4.5,4])][['title']]\n",
    "    user_movie=user_movie.iloc[0,0]\n",
    "    similarMovies(user_movie)\n",
    "    sorted_movies_as_per_userChoice= movies.sort_values( [\"similarity\"], ascending = False )\n",
    "\n",
    "    #print(sorted_movies_as_per_userChoice.head())\n",
    "    sorted_movies_as_per_userChoice=sorted_movies_as_per_userChoice[sorted_movies_as_per_userChoice['similarity'] >=0.25]['movie_id']\n",
    "    recommended_movies=list()\n",
    "    df_recommended_item=pd.DataFrame()\n",
    "    user2Movies= ratings[ratings['userId']== user_id]['movieId']\n",
    "    #print(user2Movies)\n",
    "    best10 = []\n",
    "    for movieId in sorted_movies_as_per_userChoice:\n",
    "            if movieId not in user2Movies:\n",
    "                df_new= ratings[(ratings.movieId==movieId)]\n",
    "                df_recommended_item=pd.concat([df_recommended_item,df_new])\n",
    "            best10=df_recommended_item.sort_values([\"rating\"], ascending = False )[1:11] \n",
    "    return best10['movieId']\n",
    "\n",
    "def movieIdToTitle(listMovieIDs):\n",
    "    \"\"\"\n",
    "     Converting movieId to titles\n",
    "    :param user_id: List of movies\n",
    "    :return: movie titles\n",
    "    \"\"\"\n",
    "    movie_titles= []\n",
    "    for id in listMovieIDs:\n",
    "        movie_titles.append(movies[movies['movie_id']==id]['title'].to_string())\n",
    "    return movie_titles"
   ]
  },
  {
   "cell_type": "code",
   "execution_count": 30,
   "metadata": {},
   "outputs": [
    {
     "data": {
      "text/plain": [
       "['459    Rudy (1993)',\n",
       " '314    Forrest Gump (1994)',\n",
       " '140    First Knight (1995)',\n",
       " '157    Nine Months (1995)',\n",
       " '322    Lion King, The (1994)',\n",
       " '2524    Taking of Pelham One Two Three, The (1974)',\n",
       " '314    Forrest Gump (1994)',\n",
       " '277    Shawshank Redemption, The (1994)',\n",
       " '322    Lion King, The (1994)',\n",
       " '257    Pulp Fiction (1994)']"
      ]
     },
     "execution_count": 30,
     "metadata": {},
     "output_type": "execute_result"
    }
   ],
   "source": [
    "#Call the function to find the similar movies\n",
    "movieIdToTitle(recommendMoviesAsperItemSimilarity(2))"
   ]
  },
  {
   "cell_type": "markdown",
   "metadata": {},
   "source": [
    "## User-Item Similarity\n",
    "The method identifies users that are similar to the queried user and estimate the desired rating to be the weighted average of the ratings of these similar users.\n",
    "\n",
    "### User Matrix\n",
    "For User-Item Similarity we have user Ids in rows and movies Ids in columns. This will form a matrix of (no_of_users} x (no_of_movies).\n",
    "\n",
    "\n"
   ]
  },
  {
   "cell_type": "code",
   "execution_count": 24,
   "metadata": {},
   "outputs": [
    {
     "name": "stdout",
     "output_type": "stream",
     "text": [
      "movieId  1       2       3       4       5       6       7       8       \\\n",
      "userId                                                                    \n",
      "1           4.0     0.0     4.0     0.0     0.0     4.0     0.0     0.0   \n",
      "2           0.0     0.0     0.0     0.0     0.0     0.0     0.0     0.0   \n",
      "3           0.0     0.0     0.0     0.0     0.0     0.0     0.0     0.0   \n",
      "4           0.0     0.0     0.0     0.0     0.0     0.0     0.0     0.0   \n",
      "5           4.0     0.0     0.0     0.0     0.0     0.0     0.0     0.0   \n",
      "...         ...     ...     ...     ...     ...     ...     ...     ...   \n",
      "606         2.5     0.0     0.0     0.0     0.0     0.0     2.5     0.0   \n",
      "607         4.0     0.0     0.0     0.0     0.0     0.0     0.0     0.0   \n",
      "608         2.5     2.0     2.0     0.0     0.0     0.0     0.0     0.0   \n",
      "609         3.0     0.0     0.0     0.0     0.0     0.0     0.0     0.0   \n",
      "610         5.0     0.0     0.0     0.0     0.0     5.0     0.0     0.0   \n",
      "\n",
      "movieId  9       10      ...  193565  193567  193571  193573  193579  193581  \\\n",
      "userId                   ...                                                   \n",
      "1           0.0     0.0  ...     0.0     0.0     0.0     0.0     0.0     0.0   \n",
      "2           0.0     0.0  ...     0.0     0.0     0.0     0.0     0.0     0.0   \n",
      "3           0.0     0.0  ...     0.0     0.0     0.0     0.0     0.0     0.0   \n",
      "4           0.0     0.0  ...     0.0     0.0     0.0     0.0     0.0     0.0   \n",
      "5           0.0     0.0  ...     0.0     0.0     0.0     0.0     0.0     0.0   \n",
      "...         ...     ...  ...     ...     ...     ...     ...     ...     ...   \n",
      "606         0.0     0.0  ...     0.0     0.0     0.0     0.0     0.0     0.0   \n",
      "607         0.0     0.0  ...     0.0     0.0     0.0     0.0     0.0     0.0   \n",
      "608         0.0     4.0  ...     0.0     0.0     0.0     0.0     0.0     0.0   \n",
      "609         0.0     4.0  ...     0.0     0.0     0.0     0.0     0.0     0.0   \n",
      "610         0.0     0.0  ...     0.0     0.0     0.0     0.0     0.0     0.0   \n",
      "\n",
      "movieId  193583  193585  193587  193609  \n",
      "userId                                   \n",
      "1           0.0     0.0     0.0     0.0  \n",
      "2           0.0     0.0     0.0     0.0  \n",
      "3           0.0     0.0     0.0     0.0  \n",
      "4           0.0     0.0     0.0     0.0  \n",
      "5           0.0     0.0     0.0     0.0  \n",
      "...         ...     ...     ...     ...  \n",
      "606         0.0     0.0     0.0     0.0  \n",
      "607         0.0     0.0     0.0     0.0  \n",
      "608         0.0     0.0     0.0     0.0  \n",
      "609         0.0     0.0     0.0     0.0  \n",
      "610         0.0     0.0     0.0     0.0  \n",
      "\n",
      "[610 rows x 9724 columns]\n"
     ]
    }
   ],
   "source": [
    "user_matrix  = movie_ratings.pivot(index = 'userId', columns = 'movieId', values = 'rating').fillna(0)\n",
    "print(user_matrix)"
   ]
  },
  {
   "cell_type": "markdown",
   "metadata": {},
   "source": [
    "Here I have used the cosine similarity to calculate the weight given in the above formula. This gives the similarity score of a user A with other users. The resulting matrix is of size (no_of_users) x (no_of_users)\n",
    "\n",
    "We also set the diagonal elements to 0 so as to avoid the same movie to be shown in recommendation as every given movie will have the similarity score with the same movie as equal to 1\n"
   ]
  },
  {
   "cell_type": "code",
   "execution_count": 31,
   "metadata": {},
   "outputs": [
    {
     "name": "stdout",
     "output_type": "stream",
     "text": [
      "          0         1         2         3         4         5         6    \\\n",
      "0    0.000000  0.027283  0.059720  0.194395  0.129080  0.128152  0.158744   \n",
      "1    0.027283  0.000000  0.000000  0.003726  0.016614  0.025333  0.027585   \n",
      "2    0.059720  0.000000  0.000000  0.002251  0.005020  0.003936  0.000000   \n",
      "3    0.194395  0.003726  0.002251  0.000000  0.128659  0.088491  0.115120   \n",
      "4    0.129080  0.016614  0.005020  0.128659  0.000000  0.300349  0.108342   \n",
      "..        ...       ...       ...       ...       ...       ...       ...   \n",
      "605  0.164191  0.028429  0.012993  0.200395  0.106435  0.102123  0.200035   \n",
      "606  0.269389  0.012948  0.019247  0.131746  0.152866  0.162182  0.186114   \n",
      "607  0.291097  0.046211  0.021128  0.149858  0.135535  0.178809  0.323541   \n",
      "608  0.093572  0.027565  0.000000  0.032198  0.261232  0.214234  0.090840   \n",
      "609  0.145321  0.102427  0.032119  0.107683  0.060792  0.052668  0.193219   \n",
      "\n",
      "          7         8         9    ...       600       601       602  \\\n",
      "0    0.136968  0.064263  0.016875  ...  0.080554  0.164455  0.221486   \n",
      "1    0.027257  0.000000  0.067445  ...  0.202671  0.016866  0.011997   \n",
      "2    0.004941  0.000000  0.000000  ...  0.005048  0.004892  0.024992   \n",
      "3    0.062969  0.011361  0.031163  ...  0.085938  0.128273  0.307973   \n",
      "4    0.429075  0.000000  0.030611  ...  0.068048  0.418747  0.110148   \n",
      "..        ...       ...       ...  ...       ...       ...       ...   \n",
      "605  0.099388  0.075898  0.088963  ...  0.178084  0.116534  0.300669   \n",
      "606  0.185142  0.011844  0.010451  ...  0.092525  0.199910  0.203540   \n",
      "607  0.187233  0.100435  0.077424  ...  0.158355  0.197514  0.232771   \n",
      "608  0.423993  0.000000  0.021766  ...  0.035653  0.335231  0.061941   \n",
      "609  0.078153  0.074399  0.121072  ...  0.222491  0.087528  0.163094   \n",
      "\n",
      "          603       604       605       606       607       608       609  \n",
      "0    0.070669  0.153625  0.164191  0.269389  0.291097  0.093572  0.145321  \n",
      "1    0.000000  0.000000  0.028429  0.012948  0.046211  0.027565  0.102427  \n",
      "2    0.000000  0.010694  0.012993  0.019247  0.021128  0.000000  0.032119  \n",
      "3    0.052985  0.084584  0.200395  0.131746  0.149858  0.032198  0.107683  \n",
      "4    0.258773  0.148758  0.106435  0.152866  0.135535  0.261232  0.060792  \n",
      "..        ...       ...       ...       ...       ...       ...       ...  \n",
      "605  0.066032  0.148141  0.000000  0.153063  0.262558  0.069622  0.201104  \n",
      "606  0.137834  0.118780  0.153063  0.000000  0.283081  0.149190  0.139114  \n",
      "607  0.155306  0.178142  0.262558  0.283081  0.000000  0.121993  0.322055  \n",
      "608  0.236601  0.097610  0.069622  0.149190  0.121993  0.000000  0.053225  \n",
      "609  0.052552  0.119295  0.201104  0.139114  0.322055  0.053225  0.000000  \n",
      "\n",
      "[610 rows x 610 columns]\n"
     ]
    }
   ],
   "source": [
    "user_similarity =  cosine_similarity(user_matrix)\n",
    "np.fill_diagonal(user_similarity,0)\n",
    "ratings_matrix_users = pd.DataFrame( user_similarity )\n",
    "print(ratings_matrix_users)\n",
    "\n"
   ]
  },
  {
   "cell_type": "markdown",
   "metadata": {},
   "source": [
    "### User's Similarity\n",
    "After having the cosine similarity matrix which gives the similarity score for each user against another user, we then find the most similar user to the input user by using idxmax which gives the user index for highest score against each user. The below output shows that, the similar user corresponding to user 0 is 265."
   ]
  },
  {
   "cell_type": "code",
   "execution_count": 15,
   "metadata": {},
   "outputs": [
    {
     "name": "stdout",
     "output_type": "stream",
     "text": [
      "0      265\n",
      "1      365\n",
      "2      312\n",
      "3      390\n",
      "4      469\n",
      "      ... \n",
      "605    473\n",
      "606    569\n",
      "607    479\n",
      "608    339\n",
      "609    248\n",
      "Length: 610, dtype: int64\n"
     ]
    }
   ],
   "source": [
    "similar_users = ratings_matrix_users.idxmax(axis=1)\n",
    "print(similar_users)\n"
   ]
  },
  {
   "cell_type": "markdown",
   "metadata": {},
   "source": [
    "### Recommend Movies As per User Similarity\n",
    "In this function we pass the user id as input and find the similar user corresponding to the user id of user A. After having the similar user we get the movies watched by the similar user and we also find the movies watched/rated by user A, so that we don't show the same movies in recommendation to the user. We sort the recommendation movies in descending order of the ratings so that the most rated movie is recommended first to the user\n",
    "\n"
   ]
  },
  {
   "cell_type": "code",
   "execution_count": 41,
   "metadata": {},
   "outputs": [],
   "source": [
    "def recommendMoviesAsperUserSimilarity(user_id):\n",
    "    \"\"\"\n",
    "     Recommending movie which user hasn't watched as per Item Similarity\n",
    "    :param user_id: user_id to whom movie needs to be recommended\n",
    "    :return: movieIds to user \n",
    "    \"\"\"\n",
    "    similar_user = similar_users[user_id]\n",
    "    print(\"User \"+str(user_id)+\" is similar to User \" +str(similar_user))\n",
    "    user2Movies= ratings[ratings['userId']== user_id]['movieId']\n",
    "    df_recommended=pd.DataFrame(columns=['movieId','title','genres','userId','rating','timestamp'])\n",
    "    #print(user2Movies)\n",
    "    best10 = []\n",
    "    similarUsersMovies = ratings[ratings['userId']== similar_user]['movieId']\n",
    "    for movieId in similarUsersMovies:\n",
    "            if movieId not in user2Movies:\n",
    "                df_new= movie_ratings[(movie_ratings.movieId==movieId) & (movie_ratings.userId==similar_user)]\n",
    "                df_recommended=pd.concat([df_recommended,df_new])\n",
    "            best10=df_recommended.sort_values([\"rating\"], ascending = False )[1:11] \n",
    "    return best10['title']"
   ]
  },
  {
   "cell_type": "code",
   "execution_count": 42,
   "metadata": {},
   "outputs": [
    {
     "name": "stdout",
     "output_type": "stream",
     "text": [
      "User 2 is similar to User 312\n",
      "18580    Dr. Strangelove or: How I Learned to Stop Worr...\n",
      "20299                                       Vertigo (1958)\n",
      "20636                                    Casablanca (1942)\n",
      "21128                         2001: A Space Odyssey (1968)\n",
      "21519                      Night of the Living Dead (1968)\n",
      "30192    Nosferatu (Nosferatu, eine Symphonie des Graue...\n",
      "56806                           Battleship Potemkin (1925)\n",
      "56525                 Road Warrior, The (Mad Max 2) (1981)\n",
      "23573                    E.T. the Extra-Terrestrial (1982)\n",
      "24299                                  Delicatessen (1991)\n",
      "Name: title, dtype: object\n"
     ]
    }
   ],
   "source": [
    "print(recommendMoviesAsperUserSimilarity(2))"
   ]
  },
  {
   "cell_type": "code",
   "execution_count": null,
   "metadata": {},
   "outputs": [],
   "source": []
  }
 ],
 "metadata": {
  "kernelspec": {
   "display_name": "Python 3",
   "language": "python",
   "name": "python3"
  },
  "language_info": {
   "codemirror_mode": {
    "name": "ipython",
    "version": 3
   },
   "file_extension": ".py",
   "mimetype": "text/x-python",
   "name": "python",
   "nbconvert_exporter": "python",
   "pygments_lexer": "ipython3",
   "version": "3.7.6"
  }
 },
 "nbformat": 4,
 "nbformat_minor": 4
}
